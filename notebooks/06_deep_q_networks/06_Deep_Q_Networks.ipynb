{
  "nbformat": 4,
  "nbformat_minor": 0,
  "metadata": {
    "colab": {
      "name": "06_Deep_Q-Networks.ipynb",
      "version": "0.3.2",
      "provenance": [],
      "include_colab_link": true
    },
    "kernelspec": {
      "name": "python3",
      "display_name": "Python 3"
    }
  },
  "cells": [
    {
      "cell_type": "markdown",
      "metadata": {
        "id": "view-in-github",
        "colab_type": "text"
      },
      "source": [
        "<a href=\"https://colab.research.google.com/github/DeepReward/deeprl_handson/blob/master/notebooks/06_deep_q_networks/06_Deep_Q_Networks.ipynb\" target=\"_parent\"><img src=\"https://colab.research.google.com/assets/colab-badge.svg\" alt=\"Open In Colab\"/></a>"
      ]
    },
    {
      "cell_type": "markdown",
      "metadata": {
        "id": "SSxcyqQdA5L9",
        "colab_type": "text"
      },
      "source": [
        "# 06. Deep Q-Networks"
      ]
    },
    {
      "cell_type": "markdown",
      "metadata": {
        "id": "_WahcK3fA7aH",
        "colab_type": "text"
      },
      "source": [
        "## 차례\n",
        "* Real-life value iteration\n",
        "* Tabular Q-learning\n",
        "* Deep Q-learning\n",
        " - Interaction with the environment\n",
        " - SGD optimization\n",
        " - Correlation between steps\n",
        " - The Markov property\n",
        " - The final form of DQN training\n",
        "* DQN on Pong\n",
        " - Wrappers\n",
        " - DQN model\n",
        " - Training\n",
        " - Running and performance\n",
        " - Your model in action"
      ]
    },
    {
      "cell_type": "markdown",
      "metadata": {
        "id": "tY4iNrwGBtL8",
        "colab_type": "text"
      },
      "source": [
        "--------------"
      ]
    },
    {
      "cell_type": "markdown",
      "metadata": {
        "id": "fb2hqQk4BuaF",
        "colab_type": "text"
      },
      "source": [
        "# Real-life value iteration\n"
      ]
    },
    {
      "cell_type": "markdown",
      "metadata": {
        "id": "fMLXqQiTBxTF",
        "colab_type": "text"
      },
      "source": [
        "---------------"
      ]
    },
    {
      "cell_type": "markdown",
      "metadata": {
        "id": "NWm1kp24ByVD",
        "colab_type": "text"
      },
      "source": [
        "# Tabular Q-learning"
      ]
    },
    {
      "cell_type": "markdown",
      "metadata": {
        "id": "8XFABfk3B1c_",
        "colab_type": "text"
      },
      "source": [
        "----------------------"
      ]
    },
    {
      "cell_type": "markdown",
      "metadata": {
        "id": "r-NwF296B2yk",
        "colab_type": "text"
      },
      "source": [
        "# Deep Q-learning\n",
        "* Interaction with the environment\n",
        "* SGD optimization\n",
        "* Correlation between steps\n",
        "* The Markov property\n",
        "* The final form of DQN training\n"
      ]
    },
    {
      "cell_type": "markdown",
      "metadata": {
        "id": "7PvENxqBCBJk",
        "colab_type": "text"
      },
      "source": [
        "## Interaction with the environment\n"
      ]
    },
    {
      "cell_type": "markdown",
      "metadata": {
        "id": "8PW51tGwCEL3",
        "colab_type": "text"
      },
      "source": [
        "## SGD optimization\n"
      ]
    },
    {
      "cell_type": "markdown",
      "metadata": {
        "id": "D3rRzGsKCGJa",
        "colab_type": "text"
      },
      "source": [
        "## Correlation between steps\n"
      ]
    },
    {
      "cell_type": "markdown",
      "metadata": {
        "id": "J4p71hAJCIFF",
        "colab_type": "text"
      },
      "source": [
        "## The Markov property\n"
      ]
    },
    {
      "cell_type": "markdown",
      "metadata": {
        "id": "yaGjiLApCJ0h",
        "colab_type": "text"
      },
      "source": [
        "## The final form of DQN training\n"
      ]
    },
    {
      "cell_type": "markdown",
      "metadata": {
        "id": "-ayZNKbRCLlI",
        "colab_type": "text"
      },
      "source": [
        "---------------"
      ]
    },
    {
      "cell_type": "markdown",
      "metadata": {
        "id": "IsM0EabgB5Ls",
        "colab_type": "text"
      },
      "source": [
        "# DQN on Pong\n",
        "* Wrappers\n",
        "* DQN model\n",
        "* Training\n",
        "* Running and performance\n",
        "* Your model in action"
      ]
    },
    {
      "cell_type": "markdown",
      "metadata": {
        "id": "uYbP_bf1CRwJ",
        "colab_type": "text"
      },
      "source": [
        "## Wrappers\n"
      ]
    },
    {
      "cell_type": "markdown",
      "metadata": {
        "id": "PdSeZNmFCT4J",
        "colab_type": "text"
      },
      "source": [
        "## DQN model\n"
      ]
    },
    {
      "cell_type": "markdown",
      "metadata": {
        "id": "jNqn3AV_CVog",
        "colab_type": "text"
      },
      "source": [
        "## Training\n"
      ]
    },
    {
      "cell_type": "markdown",
      "metadata": {
        "id": "bGCbCg_uCXoI",
        "colab_type": "text"
      },
      "source": [
        "## Running and performance\n"
      ]
    },
    {
      "cell_type": "markdown",
      "metadata": {
        "id": "R1Ej6dv3CZd-",
        "colab_type": "text"
      },
      "source": [
        "## Your model in action"
      ]
    },
    {
      "cell_type": "markdown",
      "metadata": {
        "id": "gPDe07gBCbRi",
        "colab_type": "text"
      },
      "source": [
        "------------"
      ]
    },
    {
      "cell_type": "markdown",
      "metadata": {
        "id": "tvBlW8_FCoP5",
        "colab_type": "text"
      },
      "source": [
        "# 참고자료\n",
        "* [1] Deep Reinforcement Learning Hands-On\n",
        "  - 책 - https://www.amazon.com/dp/B076H9VQH6/\n",
        "  - github - https://github.com/PacktPublishing/Deep-Reinforcement-Learning-Hands-On"
      ]
    }
  ]
}