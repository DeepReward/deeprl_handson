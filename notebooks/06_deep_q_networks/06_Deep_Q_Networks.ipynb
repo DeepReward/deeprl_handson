{
 "cells": [
  {
   "cell_type": "markdown",
   "metadata": {
    "colab_type": "text",
    "id": "view-in-github"
   },
   "source": [
    "<a href=\"https://colab.research.google.com/github/DeepReward/deeprl_handson/blob/master/notebooks/06_deep_q_networks/06_Deep_Q_Networks.ipynb\" target=\"_parent\"><img src=\"https://colab.research.google.com/assets/colab-badge.svg\" alt=\"Open In Colab\"/></a>"
   ]
  },
  {
   "cell_type": "markdown",
   "metadata": {
    "colab_type": "text",
    "id": "SSxcyqQdA5L9"
   },
   "source": [
    "# 06. Deep Q-Networks\n",
    "* Deep RL 핸즈온 [1]\n",
    "* 김무성"
   ]
  },
  {
   "cell_type": "markdown",
   "metadata": {
    "colab_type": "text",
    "id": "_WahcK3fA7aH"
   },
   "source": [
    "## 차례\n",
    "* Real-life value iteration\n",
    "* Tabular Q-learning\n",
    "* Deep Q-learning\n",
    " - Interaction with the environment\n",
    " - SGD optimization\n",
    " - Correlation between steps\n",
    " - The Markov property\n",
    " - The final form of DQN training\n",
    "* DQN on Pong\n",
    " - Wrappers\n",
    " - DQN model\n",
    " - Training\n",
    " - Running and performance\n",
    " - Your model in action"
   ]
  },
  {
   "cell_type": "markdown",
   "metadata": {
    "colab_type": "text",
    "id": "tY4iNrwGBtL8"
   },
   "source": [
    "--------------"
   ]
  },
  {
   "cell_type": "markdown",
   "metadata": {
    "colab_type": "text",
    "id": "fb2hqQk4BuaF"
   },
   "source": [
    "# Real-life value iteration\n"
   ]
  },
  {
   "cell_type": "markdown",
   "metadata": {
    "colab_type": "text",
    "id": "fMLXqQiTBxTF"
   },
   "source": [
    "---------------"
   ]
  },
  {
   "cell_type": "markdown",
   "metadata": {
    "colab_type": "text",
    "id": "NWm1kp24ByVD"
   },
   "source": [
    "# Tabular Q-learning"
   ]
  },
  {
   "cell_type": "markdown",
   "metadata": {},
   "source": [
    "<p align=\"center\"><img src=\"img/cap01.png\"  /></p>"
   ]
  },
  {
   "cell_type": "markdown",
   "metadata": {},
   "source": [
    "<p align=\"center\"><img src=\"img/cap02.png\"  /></p>"
   ]
  },
  {
   "cell_type": "markdown",
   "metadata": {},
   "source": [
    "<p align=\"center\"><img src=\"img/cap03.png\" width=600 /></p>\n",
    "<p align=\"center\"><img src=\"img/cap04.png\" width=400 /></p>"
   ]
  },
  {
   "cell_type": "markdown",
   "metadata": {
    "colab_type": "text",
    "id": "8XFABfk3B1c_"
   },
   "source": [
    "----------------------"
   ]
  },
  {
   "cell_type": "markdown",
   "metadata": {
    "colab_type": "text",
    "id": "r-NwF296B2yk"
   },
   "source": [
    "# Deep Q-learning\n",
    "* Interaction with the environment\n",
    "* SGD optimization\n",
    "* Correlation between steps\n",
    "* The Markov property\n",
    "* The final form of DQN training\n"
   ]
  },
  {
   "cell_type": "markdown",
   "metadata": {},
   "source": [
    "<p align=\"center\"><img src=\"img/cap05.png\" width=800 /></p>"
   ]
  },
  {
   "cell_type": "markdown",
   "metadata": {
    "colab_type": "text",
    "id": "7PvENxqBCBJk"
   },
   "source": [
    "## Interaction with the environment\n"
   ]
  },
  {
   "cell_type": "markdown",
   "metadata": {
    "colab_type": "text",
    "id": "8PW51tGwCEL3"
   },
   "source": [
    "## SGD optimization\n"
   ]
  },
  {
   "cell_type": "markdown",
   "metadata": {
    "colab_type": "text",
    "id": "D3rRzGsKCGJa"
   },
   "source": [
    "## Correlation between steps\n"
   ]
  },
  {
   "cell_type": "markdown",
   "metadata": {
    "colab_type": "text",
    "id": "J4p71hAJCIFF"
   },
   "source": [
    "## The Markov property\n"
   ]
  },
  {
   "cell_type": "markdown",
   "metadata": {
    "colab_type": "text",
    "id": "yaGjiLApCJ0h"
   },
   "source": [
    "## The final form of DQN training\n"
   ]
  },
  {
   "cell_type": "markdown",
   "metadata": {
    "colab_type": "text",
    "id": "-ayZNKbRCLlI"
   },
   "source": [
    "---------------"
   ]
  },
  {
   "cell_type": "markdown",
   "metadata": {
    "colab_type": "text",
    "id": "IsM0EabgB5Ls"
   },
   "source": [
    "# DQN on Pong\n",
    "* Wrappers\n",
    "* DQN model\n",
    "* Training\n",
    "* Running and performance\n",
    "* Your model in action"
   ]
  },
  {
   "cell_type": "markdown",
   "metadata": {
    "colab_type": "text",
    "id": "uYbP_bf1CRwJ"
   },
   "source": [
    "## Wrappers\n"
   ]
  },
  {
   "cell_type": "markdown",
   "metadata": {
    "colab_type": "text",
    "id": "PdSeZNmFCT4J"
   },
   "source": [
    "## DQN model\n"
   ]
  },
  {
   "cell_type": "markdown",
   "metadata": {
    "colab_type": "text",
    "id": "jNqn3AV_CVog"
   },
   "source": [
    "## Training\n"
   ]
  },
  {
   "cell_type": "markdown",
   "metadata": {},
   "source": [
    "<p align=\"center\"><img src=\"img/cap06.png\" width=800 /></p>"
   ]
  },
  {
   "cell_type": "markdown",
   "metadata": {
    "colab_type": "text",
    "id": "bGCbCg_uCXoI"
   },
   "source": [
    "## Running and performance\n"
   ]
  },
  {
   "cell_type": "markdown",
   "metadata": {},
   "source": [
    "<p align=\"center\"><img src=\"img/cap07.png\" width=800 /></p>"
   ]
  },
  {
   "cell_type": "markdown",
   "metadata": {
    "colab_type": "text",
    "id": "R1Ej6dv3CZd-"
   },
   "source": [
    "## Your model in action"
   ]
  },
  {
   "cell_type": "markdown",
   "metadata": {
    "colab_type": "text",
    "id": "gPDe07gBCbRi"
   },
   "source": [
    "------------"
   ]
  },
  {
   "cell_type": "markdown",
   "metadata": {
    "colab_type": "text",
    "id": "tvBlW8_FCoP5"
   },
   "source": [
    "# 참고자료\n",
    "* [1] Deep Reinforcement Learning Hands-On\n",
    "  - 책 - https://www.amazon.com/dp/B076H9VQH6/\n",
    "  - github - https://github.com/PacktPublishing/Deep-Reinforcement-Learning-Hands-On"
   ]
  }
 ],
 "metadata": {
  "colab": {
   "include_colab_link": true,
   "name": "06_Deep_Q-Networks.ipynb",
   "provenance": [],
   "version": "0.3.2"
  },
  "kernelspec": {
   "display_name": "Python 3",
   "language": "python",
   "name": "python3"
  },
  "language_info": {
   "codemirror_mode": {
    "name": "ipython",
    "version": 3
   },
   "file_extension": ".py",
   "mimetype": "text/x-python",
   "name": "python",
   "nbconvert_exporter": "python",
   "pygments_lexer": "ipython3",
   "version": "3.6.8"
  }
 },
 "nbformat": 4,
 "nbformat_minor": 1
}
