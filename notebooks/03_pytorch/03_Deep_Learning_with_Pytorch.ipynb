{
  "nbformat": 4,
  "nbformat_minor": 0,
  "metadata": {
    "colab": {
      "name": "03_Deep_Learning_with_Pytorch.ipynb",
      "version": "0.3.2",
      "provenance": [],
      "include_colab_link": true
    },
    "kernelspec": {
      "name": "python3",
      "display_name": "Python 3"
    }
  },
  "cells": [
    {
      "cell_type": "markdown",
      "metadata": {
        "id": "view-in-github",
        "colab_type": "text"
      },
      "source": [
        "<a href=\"https://colab.research.google.com/github/DeepReward/deeprl_handson/blob/master/notebooks/03_pytorch/03_Deep_Learning_with_Pytorch.ipynb\" target=\"_parent\"><img src=\"https://colab.research.google.com/assets/colab-badge.svg\" alt=\"Open In Colab\"/></a>"
      ]
    },
    {
      "cell_type": "markdown",
      "metadata": {
        "id": "jGf4SAxzNoHM",
        "colab_type": "text"
      },
      "source": [
        "# 03. Deep Learning with Pytorch"
      ]
    },
    {
      "cell_type": "markdown",
      "metadata": {
        "id": "PURpIpjuViJW",
        "colab_type": "text"
      },
      "source": [
        "* 딥리워드 / 딥리워드 101 - Deep RL 핸즈온 [1]\n",
        "* 김무성"
      ]
    },
    {
      "cell_type": "markdown",
      "metadata": {
        "id": "PgWUUOovWX8k",
        "colab_type": "text"
      },
      "source": [
        "## 차례\n",
        "* Tensors\n",
        "* Gradients\n",
        "* NN building blocks\n",
        "* Custom layers\n",
        "* Final glue - loass functions and optimizers\n",
        "* Monitoring with TensorBoard\n",
        "* Example - GAN on Atari images"
      ]
    },
    {
      "cell_type": "markdown",
      "metadata": {
        "id": "DnpHSnbhYkhm",
        "colab_type": "text"
      },
      "source": [
        "---------------"
      ]
    },
    {
      "cell_type": "markdown",
      "metadata": {
        "id": "mlyGbPJUTNjh",
        "colab_type": "text"
      },
      "source": [
        "## Imports and Helper functions"
      ]
    },
    {
      "cell_type": "code",
      "metadata": {
        "id": "RPThlhjvTM_P",
        "colab_type": "code",
        "colab": {}
      },
      "source": [
        "#remove \" > /dev/null 2>&1\" to see what is going on under the hood\n",
        "!pip install torch torchvision > /dev/null 2>&1"
      ],
      "execution_count": 0,
      "outputs": []
    },
    {
      "cell_type": "code",
      "metadata": {
        "id": "SDlRNWmrS7TU",
        "colab_type": "code",
        "outputId": "d2beeb96-d3bc-474c-b384-9797ccb54d84",
        "colab": {
          "base_uri": "https://localhost:8080/",
          "height": 35
        }
      },
      "source": [
        "import torch\n",
        "print(torch.__version__)"
      ],
      "execution_count": 0,
      "outputs": [
        {
          "output_type": "stream",
          "text": [
            "1.1.0\n"
          ],
          "name": "stdout"
        }
      ]
    },
    {
      "cell_type": "code",
      "metadata": {
        "id": "mdU469QtUIOw",
        "colab_type": "code",
        "colab": {}
      },
      "source": [
        "import numpy as np"
      ],
      "execution_count": 0,
      "outputs": []
    },
    {
      "cell_type": "markdown",
      "metadata": {
        "id": "XhZ1EzG4Yjot",
        "colab_type": "text"
      },
      "source": [
        "---------------"
      ]
    },
    {
      "cell_type": "markdown",
      "metadata": {
        "id": "-LjiOWY9Wl46",
        "colab_type": "text"
      },
      "source": [
        "# Tensors\n",
        "* Creation of tensors\n",
        "* Scalar tensors\n",
        "* Tensor operations\n",
        "* GPU tensors\n"
      ]
    },
    {
      "cell_type": "code",
      "metadata": {
        "id": "j8Jf7HzJUNON",
        "colab_type": "code",
        "colab": {}
      },
      "source": [
        "a = torch.FloatTensor(3,2)"
      ],
      "execution_count": 0,
      "outputs": []
    },
    {
      "cell_type": "code",
      "metadata": {
        "id": "RWQhPxtTURjB",
        "colab_type": "code",
        "outputId": "d52cc8c6-5b89-4eea-ed69-c2ae9a5f02e0",
        "colab": {
          "base_uri": "https://localhost:8080/",
          "height": 71
        }
      },
      "source": [
        "a"
      ],
      "execution_count": 0,
      "outputs": [
        {
          "output_type": "execute_result",
          "data": {
            "text/plain": [
              "tensor([[2.2486e-36, 0.0000e+00],\n",
              "        [3.7835e-44, 0.0000e+00],\n",
              "        [       nan, 0.0000e+00]])"
            ]
          },
          "metadata": {
            "tags": []
          },
          "execution_count": 9
        }
      ]
    },
    {
      "cell_type": "code",
      "metadata": {
        "id": "yLtzl49vW6bg",
        "colab_type": "code",
        "colab": {}
      },
      "source": [
        ""
      ],
      "execution_count": 0,
      "outputs": []
    },
    {
      "cell_type": "markdown",
      "metadata": {
        "id": "QRFdMqhNYhZO",
        "colab_type": "text"
      },
      "source": [
        "---------------"
      ]
    },
    {
      "cell_type": "markdown",
      "metadata": {
        "id": "hBQgn0BZW67o",
        "colab_type": "text"
      },
      "source": [
        "# Gradients\n",
        "* Static graph and Dynamic graph\n",
        "* Tensors and gradients"
      ]
    },
    {
      "cell_type": "markdown",
      "metadata": {
        "id": "n1mqpRhTYfQF",
        "colab_type": "text"
      },
      "source": [
        "---------------"
      ]
    },
    {
      "cell_type": "markdown",
      "metadata": {
        "id": "9IDypdOcXOai",
        "colab_type": "text"
      },
      "source": [
        "# NN building blocks"
      ]
    },
    {
      "cell_type": "markdown",
      "metadata": {
        "id": "IcUBLVCtYeKw",
        "colab_type": "text"
      },
      "source": [
        "---------------"
      ]
    },
    {
      "cell_type": "markdown",
      "metadata": {
        "id": "6GtGoBw5XTRH",
        "colab_type": "text"
      },
      "source": [
        "# Custom layers"
      ]
    },
    {
      "cell_type": "markdown",
      "metadata": {
        "id": "T3PyLXkoYc_u",
        "colab_type": "text"
      },
      "source": [
        "---------------"
      ]
    },
    {
      "cell_type": "markdown",
      "metadata": {
        "id": "xhAU5qckXqC1",
        "colab_type": "text"
      },
      "source": [
        "# Final glue - loass functions and optimizers\n",
        "* Loss functions\n",
        "* Optimizers"
      ]
    },
    {
      "cell_type": "markdown",
      "metadata": {
        "id": "hanfJbTaYb23",
        "colab_type": "text"
      },
      "source": [
        "---------------"
      ]
    },
    {
      "cell_type": "markdown",
      "metadata": {
        "id": "gVmvS4KwXyFJ",
        "colab_type": "text"
      },
      "source": [
        "# Monitoring with TensorBoard\n",
        "* TensorBoard 101\n",
        "* Plotting stuff"
      ]
    },
    {
      "cell_type": "markdown",
      "metadata": {
        "id": "KRZg3rmrYaC7",
        "colab_type": "text"
      },
      "source": [
        "---------------"
      ]
    },
    {
      "cell_type": "markdown",
      "metadata": {
        "id": "H4kzhlE4YX-0",
        "colab_type": "text"
      },
      "source": [
        "# Example - GAN on Atari images"
      ]
    }
  ]
}