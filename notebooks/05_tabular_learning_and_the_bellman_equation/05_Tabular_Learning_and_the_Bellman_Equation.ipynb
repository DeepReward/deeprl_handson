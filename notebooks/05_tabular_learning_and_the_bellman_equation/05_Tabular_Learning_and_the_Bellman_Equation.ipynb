{
  "nbformat": 4,
  "nbformat_minor": 0,
  "metadata": {
    "colab": {
      "name": "05_Tabular_Learning_and_the_Bellman_Equation.ipynb",
      "version": "0.3.2",
      "provenance": [],
      "include_colab_link": true
    },
    "kernelspec": {
      "name": "python3",
      "display_name": "Python 3"
    }
  },
  "cells": [
    {
      "cell_type": "markdown",
      "metadata": {
        "id": "view-in-github",
        "colab_type": "text"
      },
      "source": [
        "<a href=\"https://colab.research.google.com/github/DeepReward/deeprl_handson/blob/master/notebooks/05_tabular_learning_and_the_bellman_equation/05_Tabular_Learning_and_the_Bellman_Equation.ipynb\" target=\"_parent\"><img src=\"https://colab.research.google.com/assets/colab-badge.svg\" alt=\"Open In Colab\"/></a>"
      ]
    },
    {
      "cell_type": "markdown",
      "metadata": {
        "id": "RLwwSMWy1tJV",
        "colab_type": "text"
      },
      "source": [
        "# 05. Tabular Learning and the Bellman Equation\n",
        "* 김무성"
      ]
    },
    {
      "cell_type": "markdown",
      "metadata": {
        "id": "j3lql8ar2n5S",
        "colab_type": "text"
      },
      "source": [
        "## 차례 \n",
        "* Value, state, and optimality\n",
        "* The Bellman equation of optimality\n",
        "* Value of action\n",
        "* The value iteration method\n",
        "* Value iteration in practice\n",
        "* Q-learning for FrozenLake"
      ]
    },
    {
      "cell_type": "markdown",
      "metadata": {
        "id": "3OmoTjkM6Cxs",
        "colab_type": "text"
      },
      "source": [
        "----------------------"
      ]
    },
    {
      "cell_type": "markdown",
      "metadata": {
        "id": "bQqZpnTF4Xsb",
        "colab_type": "text"
      },
      "source": [
        "# Value, state, and optimality"
      ]
    },
    {
      "cell_type": "code",
      "metadata": {
        "id": "MBBGmtXC1ih2",
        "colab_type": "code",
        "colab": {}
      },
      "source": [
        ""
      ],
      "execution_count": 0,
      "outputs": []
    },
    {
      "cell_type": "markdown",
      "metadata": {
        "id": "NWACVAcW6Hh-",
        "colab_type": "text"
      },
      "source": [
        "----------------------"
      ]
    },
    {
      "cell_type": "markdown",
      "metadata": {
        "id": "mp403mfK4aej",
        "colab_type": "text"
      },
      "source": [
        "# The Bellman equation of optimality"
      ]
    },
    {
      "cell_type": "markdown",
      "metadata": {
        "id": "9YzvWvTz6Mfs",
        "colab_type": "text"
      },
      "source": [
        "----------------------"
      ]
    },
    {
      "cell_type": "markdown",
      "metadata": {
        "id": "59muMSV74dcz",
        "colab_type": "text"
      },
      "source": [
        "# Value of action"
      ]
    },
    {
      "cell_type": "markdown",
      "metadata": {
        "id": "QCUYjjAI6Nve",
        "colab_type": "text"
      },
      "source": [
        "----------------------"
      ]
    },
    {
      "cell_type": "markdown",
      "metadata": {
        "id": "hVnpZeGv4f51",
        "colab_type": "text"
      },
      "source": [
        "# The value iteration method\n"
      ]
    },
    {
      "cell_type": "markdown",
      "metadata": {
        "id": "dWeb9wpb6OzN",
        "colab_type": "text"
      },
      "source": [
        "----------------------"
      ]
    },
    {
      "cell_type": "markdown",
      "metadata": {
        "id": "7cXNtHK84jCK",
        "colab_type": "text"
      },
      "source": [
        "# Value iteration in practice\n"
      ]
    },
    {
      "cell_type": "markdown",
      "metadata": {
        "id": "pp0HuvjO6Siw",
        "colab_type": "text"
      },
      "source": [
        "----------------------"
      ]
    },
    {
      "cell_type": "markdown",
      "metadata": {
        "id": "FobEgKSO4lmE",
        "colab_type": "text"
      },
      "source": [
        "# Q-learning for FrozenLake"
      ]
    },
    {
      "cell_type": "markdown",
      "metadata": {
        "id": "6TnTHTZc6TjS",
        "colab_type": "text"
      },
      "source": [
        "----------------------"
      ]
    },
    {
      "cell_type": "markdown",
      "metadata": {
        "id": "LMF02mOE2eqk",
        "colab_type": "text"
      },
      "source": [
        "# 참고자료 \n",
        "* [1] Deep Reinforcement Learning Hands-On\n",
        "  - 책 - https://www.amazon.com/dp/B076H9VQH6/\n",
        "  - github - https://github.com/PacktPublishing/Deep-Reinforcement-Learning-Hands-On"
      ]
    }
  ]
}