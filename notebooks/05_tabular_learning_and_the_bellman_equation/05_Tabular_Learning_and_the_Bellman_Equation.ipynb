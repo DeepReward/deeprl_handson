{
 "cells": [
  {
   "cell_type": "markdown",
   "metadata": {
    "colab_type": "text",
    "id": "view-in-github"
   },
   "source": [
    "<a href=\"https://colab.research.google.com/github/DeepReward/deeprl_handson/blob/master/notebooks/05_tabular_learning_and_the_bellman_equation/05_Tabular_Learning_and_the_Bellman_Equation.ipynb\" target=\"_parent\"><img src=\"https://colab.research.google.com/assets/colab-badge.svg\" alt=\"Open In Colab\"/></a>"
   ]
  },
  {
   "cell_type": "markdown",
   "metadata": {
    "colab_type": "text",
    "id": "RLwwSMWy1tJV"
   },
   "source": [
    "# 05. Tabular Learning and the Bellman Equation\n",
    "* 김무성"
   ]
  },
  {
   "cell_type": "markdown",
   "metadata": {
    "colab_type": "text",
    "id": "j3lql8ar2n5S"
   },
   "source": [
    "## 차례 \n",
    "* Value, state, and optimality\n",
    "* The Bellman equation of optimality\n",
    "* Value of action\n",
    "* The value iteration method\n",
    "* Value iteration in practice\n",
    "* Q-learning for FrozenLake"
   ]
  },
  {
   "cell_type": "markdown",
   "metadata": {
    "colab_type": "text",
    "id": "3OmoTjkM6Cxs"
   },
   "source": [
    "----------------------"
   ]
  },
  {
   "cell_type": "markdown",
   "metadata": {
    "colab_type": "text",
    "id": "bQqZpnTF4Xsb"
   },
   "source": [
    "# Value, state, and optimality"
   ]
  },
  {
   "cell_type": "code",
   "execution_count": 0,
   "metadata": {
    "colab": {},
    "colab_type": "code",
    "id": "MBBGmtXC1ih2"
   },
   "outputs": [],
   "source": []
  },
  {
   "cell_type": "markdown",
   "metadata": {
    "colab_type": "text",
    "id": "NWACVAcW6Hh-"
   },
   "source": [
    "----------------------"
   ]
  },
  {
   "cell_type": "markdown",
   "metadata": {
    "colab_type": "text",
    "id": "mp403mfK4aej"
   },
   "source": [
    "# The Bellman equation of optimality"
   ]
  },
  {
   "cell_type": "markdown",
   "metadata": {
    "colab_type": "text",
    "id": "9YzvWvTz6Mfs"
   },
   "source": [
    "----------------------"
   ]
  },
  {
   "cell_type": "markdown",
   "metadata": {
    "colab_type": "text",
    "id": "59muMSV74dcz"
   },
   "source": [
    "# Value of action"
   ]
  },
  {
   "cell_type": "markdown",
   "metadata": {
    "colab_type": "text",
    "id": "QCUYjjAI6Nve"
   },
   "source": [
    "----------------------"
   ]
  },
  {
   "cell_type": "markdown",
   "metadata": {
    "colab_type": "text",
    "id": "hVnpZeGv4f51"
   },
   "source": [
    "# The value iteration method\n"
   ]
  },
  {
   "cell_type": "markdown",
   "metadata": {
    "colab_type": "text",
    "id": "dWeb9wpb6OzN"
   },
   "source": [
    "----------------------"
   ]
  },
  {
   "cell_type": "markdown",
   "metadata": {
    "colab_type": "text",
    "id": "7cXNtHK84jCK"
   },
   "source": [
    "# Value iteration in practice\n"
   ]
  },
  {
   "cell_type": "markdown",
   "metadata": {
    "colab_type": "text",
    "id": "pp0HuvjO6Siw"
   },
   "source": [
    "----------------------"
   ]
  },
  {
   "cell_type": "markdown",
   "metadata": {
    "colab_type": "text",
    "id": "FobEgKSO4lmE"
   },
   "source": [
    "# Q-learning for FrozenLake"
   ]
  },
  {
   "cell_type": "markdown",
   "metadata": {
    "colab_type": "text",
    "id": "6TnTHTZc6TjS"
   },
   "source": [
    "----------------------"
   ]
  },
  {
   "cell_type": "markdown",
   "metadata": {
    "colab_type": "text",
    "id": "LMF02mOE2eqk"
   },
   "source": [
    "# 참고자료 \n",
    "* [1] Deep Reinforcement Learning Hands-On\n",
    "  - 책 - https://www.amazon.com/dp/B076H9VQH6/\n",
    "  - github - https://github.com/PacktPublishing/Deep-Reinforcement-Learning-Hands-On"
   ]
  }
 ],
 "metadata": {
  "colab": {
   "include_colab_link": true,
   "name": "05_Tabular_Learning_and_the_Bellman_Equation.ipynb",
   "provenance": [],
   "version": "0.3.2"
  },
  "kernelspec": {
   "display_name": "Python 3",
   "language": "python",
   "name": "python3"
  },
  "language_info": {
   "codemirror_mode": {
    "name": "ipython",
    "version": 3
   },
   "file_extension": ".py",
   "mimetype": "text/x-python",
   "name": "python",
   "nbconvert_exporter": "python",
   "pygments_lexer": "ipython3",
   "version": "3.6.8"
  }
 },
 "nbformat": 4,
 "nbformat_minor": 1
}
